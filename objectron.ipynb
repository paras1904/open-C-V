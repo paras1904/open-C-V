{
 "cells": [
  {
   "cell_type": "code",
   "execution_count": 3,
   "id": "187ec276",
   "metadata": {},
   "outputs": [],
   "source": [
    "import cv2 \n",
    "import mediapipe as mp\n",
    "import time"
   ]
  },
  {
   "cell_type": "code",
   "execution_count": 4,
   "id": "f3184be5",
   "metadata": {},
   "outputs": [],
   "source": [
    "mp_objectron = mp.solutions.objectronq\n",
    "mp_drawing = mp.solutions.drawing_utils"
   ]
  },
  {
   "cell_type": "code",
   "execution_count": 5,
   "id": "abc7008c",
   "metadata": {},
   "outputs": [],
   "source": [
    "cap = cv2.VideoCapture(0)"
   ]
  },
  {
   "cell_type": "code",
   "execution_count": null,
   "id": "f95e3a0b",
   "metadata": {},
   "outputs": [],
   "source": [
    "with mp_objectron.Objectron(static_image_mode=False,\n",
    "                            max_num_objects=2,\n",
    "                            min_detection_confidence=0.5,\n",
    "                            min_tracking_confidence=0.8,\n",
    "                            model_name = 'Cup') as objectron:\n",
    "    while cap.isOpened():\n",
    "        sucess, image = cap.read()\n",
    "        start = time.time()\n",
    "        image = cv2.cvtColor(image,cv2.COLOR_BGR2RGB)\n",
    "        image.flags.writeable = False\n",
    "        results = objectron.process(image)\n",
    "        \n",
    "        image.flags.writeable = True\n",
    "        image = cv2.cvtColor(image,cv2.COLOR_RGB2BGR)\n",
    "        \n",
    "        if results.detected_objects:\n",
    "            for  detected_objects in results.detected_objects:\n",
    "                mp_drawing.draw_landmarks(image,detected_objects.landmarks_2d,mp_objectron.BOX_CONNECTIONS)\n",
    "                mp_drawing.draw_axis(image,detected_objects.rotation,detect_object.translation)\n",
    "        \n",
    "        end = time.time()\n",
    "        totaltime = end-start\n",
    "        fps=1/totaltime\n",
    "        cv2.putText(image,f'FPS{int(fps)}',(20,70),cv2.FONT_HERSHEY_SIMPLEX,1.5,(0,255,0),2)\n",
    "        cv2.imshow('mediapipe',image)\n",
    "        \n",
    "        if cv2.waitKey(5) & 0xFF==27:\n",
    "            break\n",
    "    cap.release()"
   ]
  },
  {
   "cell_type": "code",
   "execution_count": null,
   "id": "39c25596",
   "metadata": {},
   "outputs": [],
   "source": [
    "\n"
   ]
  },
  {
   "cell_type": "code",
   "execution_count": null,
   "id": "e8d07907",
   "metadata": {},
   "outputs": [],
   "source": []
  }
 ],
 "metadata": {
  "kernelspec": {
   "display_name": "Python 3 (ipykernel)",
   "language": "python",
   "name": "python3"
  },
  "language_info": {
   "codemirror_mode": {
    "name": "ipython",
    "version": 3
   },
   "file_extension": ".py",
   "mimetype": "text/x-python",
   "name": "python",
   "nbconvert_exporter": "python",
   "pygments_lexer": "ipython3",
   "version": "3.9.7"
  }
 },
 "nbformat": 4,
 "nbformat_minor": 5
}
